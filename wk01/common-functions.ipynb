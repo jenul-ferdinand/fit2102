{
 "cells": [
  {
   "cell_type": "markdown",
   "id": "5181bd44",
   "metadata": {},
   "source": [
    "# Common functions converted with FP"
   ]
  },
  {
   "cell_type": "markdown",
   "id": "903e9823",
   "metadata": {},
   "source": [
    "---\n",
    "## Multiplying elements of an array."
   ]
  },
  {
   "cell_type": "code",
   "execution_count": 1,
   "id": "91a08c96",
   "metadata": {},
   "outputs": [
    {
     "name": "stdout",
     "output_type": "stream",
     "text": [
      "[ 10, 20, 30, 40, 50 ]\n"
     ]
    }
   ],
   "source": [
    "const multiplyArray = (n, array) => {\n",
    "    let newArray = [];\n",
    "    for (let i = 0; i < array.length; i++) {\n",
    "        newArray.push(array[i] * n);\n",
    "    }\n",
    "    return newArray;\n",
    "}\n",
    "console.log(multiplyArray(10, [1,2,3,4,5]))"
   ]
  },
  {
   "cell_type": "markdown",
   "id": "942aaced",
   "metadata": {},
   "source": [
    "We can use the `map` function to do this easily."
   ]
  },
  {
   "cell_type": "code",
   "execution_count": null,
   "id": "7cc2a924",
   "metadata": {},
   "outputs": [
    {
     "name": "stdout",
     "output_type": "stream",
     "text": [
      "[ 10, 20, 30, 40, 50 ]\n"
     ]
    }
   ],
   "source": [
    "const multiplyArray = (n, array) => array.map(x => x * n)\n",
    "\n",
    "console.log(multiplyArray(10, [1,2,3,4,5]))"
   ]
  },
  {
   "cell_type": "markdown",
   "id": "a6464982",
   "metadata": {},
   "source": [
    "---\n",
    "## Filtering an array to have only even numbers."
   ]
  },
  {
   "cell_type": "code",
   "execution_count": 3,
   "id": "0a526040",
   "metadata": {},
   "outputs": [
    {
     "name": "stdout",
     "output_type": "stream",
     "text": [
      "[ 2, 4, 6 ]\n"
     ]
    }
   ],
   "source": [
    "const filterEvenNumbers = array => {\n",
    "    let newArray = [];\n",
    "    for (let i = 0; i < array.length; i++) {\n",
    "        if (array[i] % 2 === 0) {\n",
    "            newArray.push(array[i]);\n",
    "        }\n",
    "    }\n",
    "    return newArray;\n",
    "};\n",
    "console.log(filterEvenNumbers([1,2,3,4,5,6]))"
   ]
  },
  {
   "cell_type": "markdown",
   "id": "d771aec1",
   "metadata": {},
   "source": [
    "We can use the `filter` function to do this easily."
   ]
  },
  {
   "cell_type": "code",
   "execution_count": 4,
   "id": "d37eb47a",
   "metadata": {},
   "outputs": [
    {
     "name": "stdout",
     "output_type": "stream",
     "text": [
      "[ 2, 4, 6 ]\n"
     ]
    }
   ],
   "source": [
    "const filterEvenNumbers = (array) => array.filter(x => x % 2 === 0)\n",
    "\n",
    "console.log(filterEvenNumbers([1,2,3,4,5,6]))"
   ]
  },
  {
   "cell_type": "markdown",
   "id": "557b1745",
   "metadata": {},
   "source": [
    "---\n",
    "## Finding the max element in an array (without using Math.max)"
   ]
  },
  {
   "cell_type": "code",
   "execution_count": 5,
   "id": "59eb9dae",
   "metadata": {},
   "outputs": [
    {
     "name": "stdout",
     "output_type": "stream",
     "text": [
      "99\n"
     ]
    }
   ],
   "source": [
    "const findMax = array => {\n",
    "    let max = array[0];\n",
    "    for (let i = 1; i < array.length; i++) {\n",
    "        if (array[i] > max) {\n",
    "            max = array[i];\n",
    "        }\n",
    "    }\n",
    "    return max;\n",
    "};\n",
    "\n",
    "console.log(findMax([-10, 1, 2, 3, 99]))"
   ]
  },
  {
   "cell_type": "markdown",
   "id": "587e1ac1",
   "metadata": {},
   "source": [
    "This one is a little bit more complicated, since we can't use `Math.max`, we'll have to make use of `reduce`.\n",
    "\n",
    "We can compare the accumulator (`acc`) with the current value (`val`). Then reduce which ever is bigger.\n",
    "\n",
    "We must also start with the first item in the array, so the initial value should be set to `array[0]`."
   ]
  },
  {
   "cell_type": "code",
   "execution_count": 6,
   "id": "2757f79e",
   "metadata": {},
   "outputs": [
    {
     "name": "stdout",
     "output_type": "stream",
     "text": [
      "99\n"
     ]
    }
   ],
   "source": [
    "const findMax = (array) => array.reduce((acc, val) => val > acc ? val : acc, array[0])\n",
    "\n",
    "console.log(findMax([-10, 1, 2, 3, 99]))"
   ]
  },
  {
   "cell_type": "markdown",
   "id": "a5cad014",
   "metadata": {},
   "source": [
    "---\n",
    "## Triple and keep only odd numbers in an array"
   ]
  },
  {
   "cell_type": "code",
   "execution_count": 7,
   "id": "3f4e338b",
   "metadata": {},
   "outputs": [
    {
     "name": "stdout",
     "output_type": "stream",
     "text": [
      "[ 3, 9, 15 ]\n"
     ]
    }
   ],
   "source": [
    "const tripleAndFilterOdds = array => {\n",
    "    let newArray = [];\n",
    "    for (let i = 0; i < array.length; i++) {\n",
    "        let tripled = array[i] * 3;\n",
    "        if (tripled % 2 !== 0) {\n",
    "            newArray.push(tripled);\n",
    "        }\n",
    "    }\n",
    "    return newArray;\n",
    "};\n",
    "\n",
    "console.log(tripleAndFilterOdds([1,2,3,4,5,6]))"
   ]
  },
  {
   "cell_type": "markdown",
   "id": "4cfe9c4c",
   "metadata": {},
   "source": [
    "Here with have to make use of `filter` first to only keep the odd numbers in the array, and then we can use `map` to triple each value."
   ]
  },
  {
   "cell_type": "code",
   "execution_count": 8,
   "id": "8c929124",
   "metadata": {},
   "outputs": [
    {
     "name": "stdout",
     "output_type": "stream",
     "text": [
      "[ 3, 9, 15 ]\n"
     ]
    }
   ],
   "source": [
    "const tripleAndFilterOdds = (array) => \n",
    "    array\n",
    "        .filter(x => x % 2 !== 0)\n",
    "        .map(x => x * 3)\n",
    "\n",
    "console.log(tripleAndFilterOdds([1,2,3,4,5,6]))"
   ]
  },
  {
   "cell_type": "markdown",
   "id": "d8db9645",
   "metadata": {},
   "source": [
    "---\n",
    "## Count odd numbers in an array"
   ]
  },
  {
   "cell_type": "code",
   "execution_count": 10,
   "id": "c16fa273",
   "metadata": {},
   "outputs": [
    {
     "name": "stdout",
     "output_type": "stream",
     "text": [
      "3\n"
     ]
    }
   ],
   "source": [
    "const countOddNumbers = array => {\n",
    "    let count = 0;\n",
    "    for (let i = 0; i < array.length; i++) {\n",
    "        if (array[i] % 2 !== 0) {\n",
    "            count++;\n",
    "        }\n",
    "    }\n",
    "    return count;\n",
    "};\n",
    "console.log(countOddNumbers([1,2,3,4,5,6]))"
   ]
  },
  {
   "cell_type": "markdown",
   "id": "4a24d214",
   "metadata": {},
   "source": [
    "To count the number of odd numbers we can simply first use `filter` to keep only odd numbers in our array. Then we can use `array.length` to get the count."
   ]
  },
  {
   "cell_type": "code",
   "execution_count": 13,
   "id": "bda8fbd6",
   "metadata": {},
   "outputs": [
    {
     "name": "stdout",
     "output_type": "stream",
     "text": [
      "3\n"
     ]
    }
   ],
   "source": [
    "const countOddNumbers = array =>\n",
    "    array\n",
    "        .filter(x => x % 2 !== 0)\n",
    "        .length\n",
    "\n",
    "console.log(countOddNumbers([1,2,3,4,5,6]))"
   ]
  }
 ],
 "metadata": {
  "kernelspec": {
   "display_name": "Deno",
   "language": "typescript",
   "name": "deno"
  },
  "language_info": {
   "codemirror_mode": "typescript",
   "file_extension": ".ts",
   "mimetype": "text/x.typescript",
   "name": "typescript",
   "nbconvert_exporter": "script",
   "pygments_lexer": "typescript",
   "version": "5.8.3"
  }
 },
 "nbformat": 4,
 "nbformat_minor": 5
}
