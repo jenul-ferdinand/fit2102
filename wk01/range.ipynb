{
 "cells": [
  {
   "cell_type": "markdown",
   "id": "0b47a016",
   "metadata": {},
   "source": [
    "# Creating an array given a range"
   ]
  },
  {
   "cell_type": "code",
   "execution_count": 3,
   "id": "9decb43d",
   "metadata": {},
   "outputs": [
    {
     "name": "stdout",
     "output_type": "stream",
     "text": [
      "[ 0, 1, 2 ]\n"
     ]
    }
   ],
   "source": [
    "/**\n",
    " * * Create a range of values\n",
    " * \n",
    " * @param n Target value\n",
    " * @returns Array of values in the range [0, n)\n",
    " */\n",
    "const range = (n) => \n",
    "    Array(n)\n",
    "        .fill()\n",
    "        .map((_, x) => x)\n",
    "\n",
    "console.log(range(3))"
   ]
  },
  {
   "cell_type": "markdown",
   "id": "5ed5b6de",
   "metadata": {},
   "source": [
    "We use the `Array` class to create an array out of `n` but we have to fill it with values using `.fill()`. \n",
    "\n",
    "We also map the values with `.map((_, x) => x)`, "
   ]
  },
  {
   "cell_type": "markdown",
   "id": "fd5b7e10",
   "metadata": {},
   "source": [
    "---\n",
    "## How can we have a start for the range?"
   ]
  },
  {
   "cell_type": "code",
   "execution_count": 5,
   "id": "bccc3493",
   "metadata": {},
   "outputs": [
    {
     "name": "stdout",
     "output_type": "stream",
     "text": [
      "[ 5, 6, 7, 8, 9, 10 ]\n"
     ]
    }
   ],
   "source": [
    "/**\n",
    " * * Create a range of values (with start)\n",
    " * \n",
    " * @param start Start of range\n",
    " * @param end End of range\n",
    " * @returns Array of values in the range [start, end)\n",
    " */\n",
    "const range = (start, end) =>\n",
    "    Array(end)\n",
    "        .fill()\n",
    "        .map((_, x) => x)\n",
    "        .filter(x => x >= start)\n",
    "\n",
    "console.log(range(5, 11))"
   ]
  }
 ],
 "metadata": {
  "kernelspec": {
   "display_name": "Deno",
   "language": "typescript",
   "name": "deno"
  },
  "language_info": {
   "codemirror_mode": "typescript",
   "file_extension": ".ts",
   "mimetype": "text/x.typescript",
   "name": "typescript",
   "nbconvert_exporter": "script",
   "pygments_lexer": "typescript",
   "version": "5.8.3"
  }
 },
 "nbformat": 4,
 "nbformat_minor": 5
}
