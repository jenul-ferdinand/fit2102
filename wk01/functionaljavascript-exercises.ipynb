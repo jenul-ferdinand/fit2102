{
 "cells": [
  {
   "cell_type": "markdown",
   "id": "59117e4c",
   "metadata": {},
   "source": [
    "# Pure Functions"
   ]
  },
  {
   "cell_type": "code",
   "execution_count": null,
   "id": "cf103b4f",
   "metadata": {},
   "outputs": [],
   "source": [
    "let counter = 0\n",
    "\n",
    "function incrementCounter() {\n",
    "    counter++\n",
    "}"
   ]
  },
  {
   "cell_type": "markdown",
   "id": "79538081",
   "metadata": {},
   "source": [
    "This is **not a pure function**.\n",
    "- Reads and mutates external mutable sate (`counter`).\n",
    "- Same call to `incrementCounter()` gives different results over time (not referentially transparent).\n",
    "\n",
    "Let's look at a **pure** implementation"
   ]
  },
  {
   "cell_type": "code",
   "execution_count": null,
   "id": "34b4d30d",
   "metadata": {},
   "outputs": [],
   "source": [
    "const inc = (n: number): number => n + 1\n",
    "const nextCounter = inc(counter)"
   ]
  },
  {
   "cell_type": "markdown",
   "id": "fa41cba6",
   "metadata": {},
   "source": [
    "## Greet"
   ]
  },
  {
   "cell_type": "code",
   "execution_count": 1,
   "id": "f9fcf990",
   "metadata": {},
   "outputs": [],
   "source": [
    "function greet(name) {\n",
    "    return `Hello, ${name}!`\n",
    "}"
   ]
  },
  {
   "cell_type": "markdown",
   "id": "458e9c48",
   "metadata": {},
   "source": [
    "This is a **pure function**. Because it has:\n",
    "- Referential tranparency (`greet('Alice')` can be replaced by `\"Hello, Alice!\"` anywhere),\n",
    "- No side effects (does not read or mutate external state, perform I/O, or throw based on hidden state)."
   ]
  },
  {
   "cell_type": "markdown",
   "id": "88a450f0",
   "metadata": {},
   "source": [
    "## Multiply Array"
   ]
  },
  {
   "cell_type": "code",
   "execution_count": null,
   "id": "b4d6a584",
   "metadata": {},
   "outputs": [],
   "source": [
    "function multiplyArray(numbers: number[]): number[] {\n",
    "    for (let i = 0; i < numbers.length; i++) {\n",
    "        numbers[i] = numbers[i] * 2\n",
    "    }\n",
    "    return numbers\n",
    "}"
   ]
  },
  {
   "cell_type": "markdown",
   "id": "f3d0af5d",
   "metadata": {},
   "source": [
    "This is **not a pure function**, because:\n",
    "- It mutates the input array (`numbers[i]=...`), then returns it.\n",
    "\n",
    "A **pure version**, would return a brand new array, let's look at one:"
   ]
  },
  {
   "cell_type": "code",
   "execution_count": null,
   "id": "2d35fcf6",
   "metadata": {},
   "outputs": [],
   "source": [
    "const multiplyArray = (numbers: ReadonlyArray<number>): ReadonlyArray<number> => {h\n",
    "    return numbers.map(x => x * 2)\n",
    "}"
   ]
  },
  {
   "cell_type": "markdown",
   "id": "6bed86a6",
   "metadata": {},
   "source": [
    "## Log Message"
   ]
  },
  {
   "cell_type": "code",
   "execution_count": null,
   "id": "cbaa9083",
   "metadata": {},
   "outputs": [],
   "source": [
    "function logMessage(message: string) {\n",
    "    console.log(message);\n",
    "}"
   ]
  },
  {
   "cell_type": "markdown",
   "id": "73d9ef74",
   "metadata": {},
   "source": [
    "This is **not a pure function**, it uses `console.log` which performs I/O side effect (writes to stdout)."
   ]
  },
  {
   "cell_type": "markdown",
   "id": "0d7839fd",
   "metadata": {},
   "source": [
    "## Double Numbers"
   ]
  },
  {
   "cell_type": "code",
   "execution_count": null,
   "id": "08fa3708",
   "metadata": {},
   "outputs": [],
   "source": [
    "function doubleNumbers(numbers: ReadonlyArray<number>) {\n",
    "    return numbers.map(x => x * 2)\n",
    "}"
   ]
  },
  {
   "cell_type": "markdown",
   "id": "b36a9aea",
   "metadata": {},
   "source": [
    "This is definitely a **pure function**, it does not cause side effects or mutate the input array, it returns a brand new array with the element multiplied by two."
   ]
  },
  {
   "cell_type": "markdown",
   "id": "8514cfd5",
   "metadata": {},
   "source": [
    "## Get Random Number"
   ]
  },
  {
   "cell_type": "code",
   "execution_count": null,
   "id": "785341ed",
   "metadata": {},
   "outputs": [],
   "source": [
    "function getRandomNumber() {\n",
    "    return Math.random()\n",
    "}"
   ]
  },
  {
   "cell_type": "markdown",
   "id": "336f1032",
   "metadata": {},
   "source": [
    "`Math.random()` maks `getRandomNumber` **impure** because it is non-deterministic. Same input (none) => different outputs. Even if it has no observable side effects, purity also requires determinism.\n",
    "\n",
    "We can make it pure by threading an explicit seed."
   ]
  },
  {
   "cell_type": "code",
   "execution_count": 3,
   "id": "d5e9a76c",
   "metadata": {},
   "outputs": [],
   "source": [
    "type RNGState = number;\n",
    "const nextRandom = (seed: RNGState): { value: number; nextSeed: RNGState } => {\n",
    "    const a = 1664525, c = 1013904223, m = 2 ** 32;\n",
    "    const next = (a * seed + c) % m;\n",
    "    return { value: next / m, nextSeed: next }\n",
    "};\n",
    "\n",
    "// Usage\n",
    "const { value: r1, nextSeed: s1 } = nextRandom(42);\n",
    "const { value: r2, nextSeed: s2 } = nextRandom(s1);"
   ]
  }
 ],
 "metadata": {
  "kernelspec": {
   "display_name": "Deno",
   "language": "typescript",
   "name": "deno"
  },
  "language_info": {
   "codemirror_mode": "typescript",
   "file_extension": ".ts",
   "mimetype": "text/x.typescript",
   "name": "typescript",
   "nbconvert_exporter": "script",
   "pygments_lexer": "typescript",
   "version": "5.8.3"
  }
 },
 "nbformat": 4,
 "nbformat_minor": 5
}
