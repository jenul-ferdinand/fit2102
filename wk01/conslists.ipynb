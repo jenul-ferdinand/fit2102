{
 "cells": [
  {
   "cell_type": "markdown",
   "id": "9eac9590",
   "metadata": {},
   "source": [
    "# Conslists\n",
    "A simple data structure similar to linked lists, composed only with functions using closures to capture data.\n",
    "\n",
    "The function below will construct a list node, if no second argument is given then it is the only item in the list."
   ]
  },
  {
   "cell_type": "code",
   "execution_count": null,
   "id": "39a0150e",
   "metadata": {},
   "outputs": [
    {
     "name": "stdout",
     "output_type": "stream",
     "text": [
      "[ [Function (anonymous)] ]\n"
     ]
    }
   ],
   "source": [
    "function cons(head, rest = null) {\n",
    "    return (selector) => selector(head, rest);\n",
    "}"
   ]
  },
  {
   "cell_type": "markdown",
   "id": "325c01cc",
   "metadata": {},
   "source": [
    "We can't yet access this anonymous function, we need to create getter methods."
   ]
  },
  {
   "cell_type": "code",
   "execution_count": null,
   "id": "326e2546",
   "metadata": {},
   "outputs": [],
   "source": [
    "function head(list) {\n",
    "    if (!list) return TypeError('list is null');\n",
    "\n",
    "    return list((head, rest) => head);\n",
    "}\n",
    "function rest(list) {\n",
    "    if (!list) return TypeError('list is null');\n",
    "\n",
    "    return list((head, rest) => rest);\n",
    "}"
   ]
  },
  {
   "cell_type": "markdown",
   "id": "bce936c8",
   "metadata": {},
   "source": [
    "Now with this, we can create a function to iterate over each `head` item in the conslist, but we'll have to use recursion."
   ]
  },
  {
   "cell_type": "markdown",
   "id": "2b7bd414",
   "metadata": {},
   "source": [
    "We can also apply a function to each element in the list."
   ]
  },
  {
   "cell_type": "code",
   "execution_count": null,
   "id": "e5ec3cb7",
   "metadata": {},
   "outputs": [],
   "source": [
    "function forEach(f, list) {\n",
    "    if (list) {\n",
    "        f(head(list));\n",
    "        forEach(f, rest(list));\n",
    "    }\n",
    "}"
   ]
  },
  {
   "cell_type": "markdown",
   "id": "75ed4973",
   "metadata": {},
   "source": [
    "Now that we have `forEach`, we can try to implement `map`, `reduce`, and `filter` for the conslist.\n",
    "\n",
    "### `map`."
   ]
  },
  {
   "cell_type": "code",
   "execution_count": null,
   "id": "2c17d499",
   "metadata": {},
   "outputs": [],
   "source": [
    "function map(f, list) {\n",
    "    if (!list) return null;\n",
    "\n",
    "    const _head = f(head(list))\n",
    "    const _rest = map(f, rest(list))\n",
    "    return cons(_head, _rest)\n",
    "}"
   ]
  },
  {
   "cell_type": "markdown",
   "id": "12cee6ab",
   "metadata": {},
   "source": [
    "We apply the function to the `head` of the `list`, then we recursively call `map` for the rest of the `list`."
   ]
  },
  {
   "cell_type": "markdown",
   "id": "9efa1e0d",
   "metadata": {},
   "source": [
    "### `reduce`."
   ]
  },
  {
   "cell_type": "code",
   "execution_count": null,
   "id": "ff1119e0",
   "metadata": {},
   "outputs": [],
   "source": [
    "function reduce(f, acc, list) {\n",
    "    if (!list) return acc;\n",
    "\n",
    "    return reduce(f, f(acc, head(list), rest(list)))\n",
    "}"
   ]
  },
  {
   "cell_type": "markdown",
   "id": "bb040f93",
   "metadata": {},
   "source": [
    "Here we reduce by applying the reducing function `f`, to the `head` of the `list`, then we provide the `rest` of the `list`. We will eventually fully reduce from left to right, and hit the base case to return the final accumlated value of `acc`."
   ]
  },
  {
   "cell_type": "markdown",
   "id": "181d03d6",
   "metadata": {},
   "source": [
    "### `filter`."
   ]
  },
  {
   "cell_type": "code",
   "execution_count": null,
   "id": "805da2fb",
   "metadata": {},
   "outputs": [],
   "source": [
    "function filter(f, list) {\n",
    "    if (!list) return null;\n",
    "    if (!f(head(list))) return filter(f, rest(list))\n",
    "    return cons(head(list), filter(f, rest(list)))\n",
    "}"
   ]
  },
  {
   "cell_type": "markdown",
   "id": "2ae6a911",
   "metadata": {},
   "source": [
    "We want to filter out certain elements in our `list`, based on the function `f` provided. We have a check to see if `f` applied to the `head` of the `list` is false. If it is, then we call `filter` again for the `rest` of the `list`.\n",
    "\n",
    "If we manage to get passed that check, we return a new conslist with the head of the list (since we know that it's fine), but still apply the `filter` to the rest of the list."
   ]
  }
 ],
 "metadata": {
  "kernelspec": {
   "display_name": "Deno",
   "language": "typescript",
   "name": "deno"
  },
  "language_info": {
   "codemirror_mode": "typescript",
   "file_extension": ".ts",
   "mimetype": "text/x.typescript",
   "name": "typescript",
   "nbconvert_exporter": "script",
   "pygments_lexer": "typescript",
   "version": "5.8.3"
  }
 },
 "nbformat": 4,
 "nbformat_minor": 5
}
