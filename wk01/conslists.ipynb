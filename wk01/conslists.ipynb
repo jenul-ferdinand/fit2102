{
 "cells": [
  {
   "cell_type": "markdown",
   "id": "9eac9590",
   "metadata": {},
   "source": [
    "# Conslists\n",
    "A simple data structure similar to linked lists, composed only with functions using closures to capture data.\n",
    "\n",
    "The function below will construct a list node, if no second argument is given then it is the only item in the list."
   ]
  },
  {
   "cell_type": "code",
   "execution_count": null,
   "id": "39a0150e",
   "metadata": {},
   "outputs": [
    {
     "name": "stdout",
     "output_type": "stream",
     "text": [
      "[ [Function (anonymous)] ]\n"
     ]
    }
   ],
   "source": [
    "function cons(head, rest = null) {\n",
    "    return (selector) => selector(head, rest);\n",
    "}"
   ]
  },
  {
   "cell_type": "markdown",
   "id": "325c01cc",
   "metadata": {},
   "source": [
    "We can't yet access this anonymous function, we need to create getter methods."
   ]
  },
  {
   "cell_type": "code",
   "execution_count": null,
   "id": "326e2546",
   "metadata": {},
   "outputs": [],
   "source": [
    "function head(list) {\n",
    "    return list((head, rest) => head)\n",
    "}\n",
    "function rest(list) {\n",
    "    return list((head, rest) => rest)\n",
    "}"
   ]
  }
 ],
 "metadata": {
  "kernelspec": {
   "display_name": "Deno",
   "language": "typescript",
   "name": "deno"
  },
  "language_info": {
   "codemirror_mode": "typescript",
   "file_extension": ".ts",
   "mimetype": "text/x.typescript",
   "name": "typescript",
   "nbconvert_exporter": "script",
   "pygments_lexer": "typescript",
   "version": "5.8.3"
  }
 },
 "nbformat": 4,
 "nbformat_minor": 5
}
