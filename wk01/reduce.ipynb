{
 "cells": [
  {
   "cell_type": "markdown",
   "id": "ebbaf048",
   "metadata": {},
   "source": [
    "# Reduce\n",
    "In the first workshop we were introduced to functional programming with JavaScript.\n",
    "First we learnt that we can use the `reduce` function to do various common operations on arrays.\n",
    "i.e., `length`, `copy`, `reverse`, `map`, `filter`."
   ]
  },
  {
   "cell_type": "markdown",
   "id": "8257a415",
   "metadata": {},
   "source": [
    "### Length of an array using `reduce`\n",
    "Let's use `reduce` to find the length of an array."
   ]
  },
  {
   "cell_type": "code",
   "execution_count": 4,
   "id": "8f415893",
   "metadata": {},
   "outputs": [
    {
     "name": "stdout",
     "output_type": "stream",
     "text": [
      "3\n"
     ]
    }
   ],
   "source": [
    "function length(arr: array): number {\n",
    "    return arr.reduce((acc, curr) => acc + 1)\n",
    "}\n",
    "\n",
    "console.log(length([1,2,3]))"
   ]
  },
  {
   "cell_type": "markdown",
   "id": "7331f1ca",
   "metadata": {},
   "source": [
    "We used the accumulator `acc` that is provided as the first parameter of the callback function. This keeps track of how many elements in the array we have processed. \n",
    "\n",
    "`curr` is the current value, this is not required for this."
   ]
  },
  {
   "cell_type": "markdown",
   "id": "3e7a01a0",
   "metadata": {},
   "source": [
    "### Copy of an array"
   ]
  },
  {
   "cell_type": "code",
   "execution_count": 8,
   "id": "86a86709",
   "metadata": {},
   "outputs": [
    {
     "name": "stdout",
     "output_type": "stream",
     "text": [
      "[ 1, 2, 3 ]\n"
     ]
    }
   ],
   "source": [
    "function copy(arr: array): array {\n",
    "    return arr.reduce((acc, curr) => [...acc, curr], [])\n",
    "}\n",
    "\n",
    "console.log(copy([1,2,3]))"
   ]
  },
  {
   "cell_type": "markdown",
   "id": "9c4be10f",
   "metadata": {},
   "source": [
    "### Reverse an array"
   ]
  },
  {
   "cell_type": "code",
   "execution_count": 9,
   "id": "c5e72cd8",
   "metadata": {},
   "outputs": [
    {
     "name": "stdout",
     "output_type": "stream",
     "text": [
      "[ 3, 2, 1 ]\n"
     ]
    }
   ],
   "source": [
    "function reverse(arr: array): array {\n",
    "    return arr.reduce((acc, curr) => [curr, ...acc], [])\n",
    "}\n",
    "\n",
    "console.log(reverse([1,2,3]))"
   ]
  },
  {
   "cell_type": "markdown",
   "id": "e806fa75",
   "metadata": {},
   "source": [
    "Reversing an array with `reduce` is really similar to how we did `copy(arr)`, here we just put the `curr` (current value) before the spread `...acc` (accumulator). This will essentially build the array in reverse."
   ]
  },
  {
   "cell_type": "markdown",
   "id": "ed552c79",
   "metadata": {},
   "source": [
    "### Map\n",
    "_Returns an array of the result of applying `func` to each element of `arr`_"
   ]
  },
  {
   "cell_type": "code",
   "execution_count": null,
   "id": "d8a6906e",
   "metadata": {},
   "outputs": [],
   "source": [
    "function map(arr: array, func: function): array {\n",
    "    return arr\n",
    "        .reduce((acc, curr) => [...acc, func(curr)], [])\n",
    "}"
   ]
  },
  {
   "cell_type": "markdown",
   "id": "5df000fe",
   "metadata": {},
   "source": [
    "### Filter\n",
    "_Returns an array containing the elements of `arr` for which `func` applied to the element is true._"
   ]
  },
  {
   "cell_type": "code",
   "execution_count": null,
   "id": "752c98d6",
   "metadata": {},
   "outputs": [],
   "source": [
    "function filter(arr: array, func: function): array {\n",
    "    return arr\n",
    "        .reduce((acc, curr) => func(curr) ? acc.concat(curr) : acc, [])\n",
    "}"
   ]
  }
 ],
 "metadata": {
  "kernelspec": {
   "display_name": "Deno",
   "language": "typescript",
   "name": "deno"
  },
  "language_info": {
   "codemirror_mode": "typescript",
   "file_extension": ".ts",
   "mimetype": "text/x.typescript",
   "name": "typescript",
   "nbconvert_exporter": "script",
   "pygments_lexer": "typescript",
   "version": "5.8.3"
  }
 },
 "nbformat": 4,
 "nbformat_minor": 5
}
