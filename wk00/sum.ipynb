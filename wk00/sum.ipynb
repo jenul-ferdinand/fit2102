{
 "cells": [
  {
   "cell_type": "markdown",
   "id": "c7e555b6",
   "metadata": {},
   "source": [
    "A simple imperative/iterative function to sum up the numbers from 0 .. n"
   ]
  },
  {
   "cell_type": "code",
   "execution_count": null,
   "id": "92c9e4dc",
   "metadata": {},
   "outputs": [],
   "source": [
    "function sum(n) {\n",
    "    let sum = 0;\n",
    "    for (let i = 0; i <= n; i++) {\n",
    "        sum += 1;\n",
    "    }\n",
    "    return sum;\n",
    "}\n",
    "\n",
    "console.log(sum(n))"
   ]
  },
  {
   "cell_type": "markdown",
   "id": "979bdf4d",
   "metadata": {},
   "source": [
    "Now let's look at recursive implementations. Starting with a basic one."
   ]
  },
  {
   "cell_type": "code",
   "execution_count": null,
   "id": "ca948475",
   "metadata": {},
   "outputs": [],
   "source": [
    "function sum(n) {\n",
    "    if (n === 0) return 0;\n",
    "    return n + sum(n-1);\n",
    "}"
   ]
  },
  {
   "cell_type": "markdown",
   "id": "9d13742e",
   "metadata": {},
   "source": [
    "We can make it more concise by using the ternary operator."
   ]
  },
  {
   "cell_type": "code",
   "execution_count": null,
   "id": "77dd1420",
   "metadata": {},
   "outputs": [],
   "source": [
    "function sum(n) {\n",
    "    return n === 0 ? 0 \n",
    "                   : n + sum(n-1);\n",
    "}"
   ]
  },
  {
   "cell_type": "code",
   "execution_count": null,
   "id": "1236db19",
   "metadata": {},
   "outputs": [],
   "source": [
    "function sum(n) {\n",
    "    return n ? n + sum(n-1)\n",
    "             : 0;\n",
    "}"
   ]
  }
 ],
 "metadata": {
  "kernelspec": {
   "display_name": "JavaScript",
   "language": "javascript",
   "name": "jslab"
  },
  "language_info": {
   "name": "javascript"
  }
 },
 "nbformat": 4,
 "nbformat_minor": 5
}
