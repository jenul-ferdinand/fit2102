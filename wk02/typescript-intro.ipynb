{
 "cells": [
  {
   "cell_type": "markdown",
   "id": "c3a8b685",
   "metadata": {},
   "source": [
    "# TypeScript Introduction"
   ]
  },
  {
   "cell_type": "markdown",
   "id": "fd413f96",
   "metadata": {},
   "source": [
    "I already know the basics of TypeScript, but let's first look at how to define type definitions for a curried function."
   ]
  },
  {
   "cell_type": "code",
   "execution_count": 9,
   "id": "d9e42941",
   "metadata": {},
   "outputs": [
    {
     "name": "stdout",
     "output_type": "stream",
     "text": [
      "2\n"
     ]
    }
   ],
   "source": [
    "const curriedFunction = (\n",
    "    f: (x: number, y: number) => number = (x,y) => x + y\n",
    "): (x: number) => (y: number) => number => {\n",
    "    return x => y => f(x, y)\n",
    "}\n",
    "\n",
    "console.log(curriedFunction()(1)(1))"
   ]
  },
  {
   "cell_type": "markdown",
   "id": "ed432664",
   "metadata": {},
   "source": [
    "This is a basic curried function that applies a function to two values `x` and `y`.\n",
    "\n",
    "We can improve this by using generics."
   ]
  },
  {
   "cell_type": "code",
   "execution_count": null,
   "id": "4f266e18",
   "metadata": {},
   "outputs": [],
   "source": [
    "// NEW same functionality, but with generic types\n",
    "const curry = <A, B, C>(\n",
    "    f: (x: A, y: B) => C\n",
    ") => (x: A) => (y: B) => f(x, y);\n",
    "\n",
    "// Usage of NEW curry function\n",
    "console.log(curry((x: number, y: number) => x + y)(1)(1))"
   ]
  },
  {
   "cell_type": "markdown",
   "id": "938a9a5e",
   "metadata": {},
   "source": [
    "---\n",
    "## Modularise BinarySearch with Generic Types"
   ]
  },
  {
   "cell_type": "code",
   "execution_count": null,
   "id": "99334180",
   "metadata": {},
   "outputs": [],
   "source": [
    "const binarySearch = <T>(\n",
    "    arr: T[], \n",
    "    key: T, \n",
    "    compare: (a: T, b: T) => number\n",
    "): T => {\n",
    "    function bs(start: number, end: number): number {\n",
    "        if (start >= end) return -1\n",
    "\n",
    "        // Get mid element\n",
    "        const mid = Math.floor((start + end) / 2)\n",
    "\n",
    "        // Result of comparison with target and mid element\n",
    "        const comp = compare(key, arr[mid])\n",
    "        \n",
    "        // Recurse to RHS of mid\n",
    "        if (comp > 0) return bs(mid + 1, end)\n",
    "        // Recurse to LHS of mid\n",
    "        if (comp < 0) return bs(start, mid)\n",
    "        // Otherwise key == mid, so return mid\n",
    "        return mid\n",
    "    }\n",
    "\n",
    "    return bs(0, arr.length)\n",
    "}"
   ]
  },
  {
   "cell_type": "markdown",
   "id": "8caf1730",
   "metadata": {},
   "source": [
    "Here we used generic types T to indicate that the array can contain any types not just numbers. \n",
    "\n",
    "We also provide a compare function that takes two values and returns a number, that should return:\n",
    "- 1 if `a > b`,\n",
    "- 0 if `a == b`,\n",
    "- -1 otherwise."
   ]
  },
  {
   "cell_type": "markdown",
   "id": "b0be2c71",
   "metadata": {},
   "source": [
    "---\n",
    "## Typing the `map` function"
   ]
  },
  {
   "cell_type": "code",
   "execution_count": 18,
   "id": "a33ac8de",
   "metadata": {},
   "outputs": [
    {
     "name": "stdout",
     "output_type": "stream",
     "text": [
      "[ 2, 4, 6, 8, 10, 12 ]\n"
     ]
    }
   ],
   "source": [
    "const nonTypedMap = (func, arr) => {\n",
    "    if (arr.length === 0) return []\n",
    "\n",
    "    return [func(arr[0]), ...nonTypedMap(func, arr.slice(1))]\n",
    "}\n",
    "\n",
    "console.log(nonTypedMap((x)=>x*2, [1,2,3,4,5,6]))"
   ]
  },
  {
   "cell_type": "code",
   "execution_count": null,
   "id": "356a161a",
   "metadata": {},
   "outputs": [
    {
     "name": "stdout",
     "output_type": "stream",
     "text": [
      "[ 2, 4, 6, 8, 10, 12 ]\n"
     ]
    }
   ],
   "source": [
    "const typedMap = <A, B>(\n",
    "    func: (x: A) => B, \n",
    "    arr: A[]\n",
    "): B[] => {\n",
    "    if (arr.length === 0) return []\n",
    "\n",
    "    return [func(arr[0]), ...typedMap(func, arr.slice(1))]\n",
    "}\n",
    "\n",
    "console.log(typedMap((x)=>x*2, [1,2,3,4,5,6]))"
   ]
  },
  {
   "cell_type": "markdown",
   "id": "76283d69",
   "metadata": {},
   "source": [
    "---\n",
    "## Typing the `filter` function"
   ]
  },
  {
   "cell_type": "code",
   "execution_count": null,
   "id": "759e1b11",
   "metadata": {},
   "outputs": [],
   "source": [
    "const typedFilter = <A>(\n",
    "    func: (x: A) => boolean, \n",
    "    arr: A[]\n",
    "): A[] => {\n",
    "    if (arr.length === 0) return []\n",
    "\n",
    "    // Keep the head value\n",
    "    if (func(arr[0])) return [arr[0], ...typedFilter(func, arr.slice(1))]\n",
    "\n",
    "    // Skip the head value\n",
    "    return typedFilter(func, arr.slice(1))\n",
    "}\n",
    "\n",
    "console.log(filter(x => x % 2 === 0, [1,2,3,4]))"
   ]
  },
  {
   "cell_type": "markdown",
   "id": "b75ea750",
   "metadata": {},
   "source": [
    "This time we specify that the function returns a boolean and the generics of the array stay the same, because we're simply ommiting values based on our filter."
   ]
  }
 ],
 "metadata": {
  "kernelspec": {
   "display_name": "Deno",
   "language": "typescript",
   "name": "deno"
  },
  "language_info": {
   "codemirror_mode": "typescript",
   "file_extension": ".ts",
   "mimetype": "text/x.typescript",
   "name": "typescript",
   "nbconvert_exporter": "script",
   "pygments_lexer": "typescript",
   "version": "5.8.3"
  }
 },
 "nbformat": 4,
 "nbformat_minor": 5
}
